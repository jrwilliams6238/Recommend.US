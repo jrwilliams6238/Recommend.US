{
  "cells": [
    {
      "cell_type": "code",
      "execution_count": null,
      "metadata": {
        "colab": {
          "background_save": true,
          "base_uri": "https://localhost:8080/"
        },
        "id": "4q8_hTEs6u3V",
        "outputId": "b1e494fc-2e80-4045-c578-e87ebb579446"
      },
      "outputs": [
        {
          "name": "stdout",
          "output_type": "stream",
          "text": [
            "Looking in indexes: https://pypi.org/simple, https://us-python.pkg.dev/colab-wheels/public/simple/\n",
            "Collecting rapidfuzz\n",
            "  Downloading rapidfuzz-2.13.3-cp38-cp38-manylinux_2_17_x86_64.manylinux2014_x86_64.whl (2.2 MB)\n",
            "\u001b[K     |████████████████████████████████| 2.2 MB 7.4 MB/s \n",
            "\u001b[?25hInstalling collected packages: rapidfuzz\n",
            "Successfully installed rapidfuzz-2.13.3\n",
            "Looking in indexes: https://pypi.org/simple, https://us-python.pkg.dev/colab-wheels/public/simple/\n",
            "Collecting python-Levenshtein\n",
            "  Downloading python_Levenshtein-0.20.8-py3-none-any.whl (9.4 kB)\n",
            "Collecting Levenshtein==0.20.8\n",
            "  Downloading Levenshtein-0.20.8-cp38-cp38-manylinux_2_17_x86_64.manylinux2014_x86_64.whl (174 kB)\n",
            "\u001b[K     |████████████████████████████████| 174 kB 6.3 MB/s \n",
            "\u001b[?25hRequirement already satisfied: rapidfuzz<3.0.0,>=2.3.0 in /usr/local/lib/python3.8/dist-packages (from Levenshtein==0.20.8->python-Levenshtein) (2.13.3)\n",
            "Installing collected packages: Levenshtein, python-Levenshtein\n",
            "Successfully installed Levenshtein-0.20.8 python-Levenshtein-0.20.8\n"
          ]
        }
      ],
      "source": [
        "!pip install rapidfuzz\n",
        "from google.colab import drive\n",
        "\n",
        "\n",
        "!pip install python-Levenshtein\n",
        "import Levenshtein\n",
        "\n",
        "\n",
        "drive.mount('/content/drive')\n",
        "\n",
        "\n",
        "import pandas as pd\n",
        "from scipy.spatial.distance import pdist\n",
        "from rapidfuzz import process, fuzz\n",
        "import numpy as np\n",
        "from scipy.stats import norm"
      ]
    },
    {
      "cell_type": "code",
      "execution_count": null,
      "metadata": {
        "id": "s3PlckY265Lw"
      },
      "outputs": [],
      "source": [
        "# Get data, create usable format\n",
        "movie_pivot = pd.read_csv('/content/drive/MyDrive/movie_pivot.csv', index_col=[0])\n",
        "movie_meta = pd.read_csv('/content/drive/MyDrive/movie_meta.csv', index_col=[0])\n",
        "\n",
        "valid_movies = movie_pivot.index.intersection(movie_meta.index)\n",
        "\n",
        "movie_pivot = movie_pivot.loc[valid_movies]\n",
        "movie_meta = movie_meta.loc[valid_movies]\n",
        "\n",
        "# Get data, create usable format\n",
        "book_pivot = pd.read_csv('/content/drive/MyDrive/book_pivot.csv', index_col=[0])\n",
        "book_meta = pd.read_csv('/content/drive/MyDrive/book_meta.csv', index_col=[0])\n",
        "\n",
        "# # Create frame for storing distances\n",
        "movie_dist = pd.DataFrame(index=movie_pivot.index, data=movie_meta[['title']])\n",
        "book_dist = pd.DataFrame(index=book_meta.index, data=book_meta[['title']])\n",
        "\n",
        "\n",
        "# allow interfacing\n",
        "shared_labels = list(set(movie_pivot.columns).intersection(set(book_pivot.columns)))\n",
        "\n",
        "book_pivot = book_pivot[list(shared_labels)]\n",
        "movie_pivot = movie_pivot[list(shared_labels)]"
      ]
    },
    {
      "cell_type": "code",
      "execution_count": null,
      "metadata": {
        "id": "PtusK_BpAeXE"
      },
      "outputs": [],
      "source": [
        "# Function to search movie name, returns index in database\n",
        "def search_movies(name, index):\n",
        "    dist = []\n",
        "\n",
        "    for t in movie_meta['title']:\n",
        "        dist.append(Levenshtein.distance(t, name, weights=(100, 1, 10)))\n",
        "\n",
        "    df = pd.DataFrame(movie_meta[['title']])\n",
        "    df['dist'] = dist\n",
        "    selection = df.sort_values('dist', ascending=True).head(5).reset_index()\n",
        "\n",
        "    display(selection[['title']])\n",
        "    print(\"Selection:\", index)\n",
        "\n",
        "    return selection['item_id'][index]\n",
        "\n",
        "# Function to search movie name, returns index in database\n",
        "def search_books(name, index):\n",
        "    dist = []\n",
        "\n",
        "    for t in book_meta['title']:\n",
        "        dist.append(Levenshtein.distance(t.lower(), name.lower(), weights=(100, 1, 10)))\n",
        "\n",
        "    df = pd.DataFrame(book_meta[['title']])\n",
        "    df['dist'] = dist\n",
        "    selection = df.sort_values('dist', ascending=True).head(5).reset_index()\n",
        "\n",
        "    display(selection[['title']])\n",
        "    print(\"Selection:\", index)\n",
        "\n",
        "    return selection['item_id'][index]"
      ]
    },
    {
      "cell_type": "code",
      "execution_count": null,
      "metadata": {
        "id": "s3u_S5CiBfZc"
      },
      "outputs": [],
      "source": [
        "# book to recommended\n",
        "\n",
        "base_id = search_books('Twilight #1', 2)\n",
        "\n",
        "movie_dist['Dist_1'] = (movie_pivot * book_pivot.loc[base_id]).sum(axis=1).to_list()\n",
        "book_dist['Dist_1'] = (book_pivot * book_pivot.loc[base_id]).sum(axis=1).to_list()"
      ]
    },
    {
      "cell_type": "code",
      "execution_count": null,
      "metadata": {
        "id": "637GaK9snUs8"
      },
      "outputs": [],
      "source": [
        "book_pivot.loc[base_id]"
      ]
    },
    {
      "cell_type": "code",
      "execution_count": null,
      "metadata": {
        "id": "Zo5Nyy4kB0oN"
      },
      "outputs": [],
      "source": [
        "movie_dist.sort_values(\"Dist_1\", ascending=False).head(10)"
      ]
    },
    {
      "cell_type": "code",
      "execution_count": null,
      "metadata": {
        "id": "ePmmU2nJ_SJ7"
      },
      "outputs": [],
      "source": [
        "book_dist.sort_values(\"Dist_1\", ascending=False).head(10)"
      ]
    },
    {
      "cell_type": "code",
      "execution_count": null,
      "metadata": {
        "id": "ycuE4K5WNqIq"
      },
      "outputs": [],
      "source": [
        "#take list of book ids, create recommendation for a book\n",
        "\n",
        "target_list = book_dist.sort_values('Dist_1', ascending=False).head(5).index # replace with a [list of ids]\n",
        "\n",
        "target = book_pivot.loc[target_list].mean()\n",
        "\n",
        "movie_dist['Dist_1'] = (movie_pivot * target * np.log(book_pivot.loc[target_list].var().sort_values().max() / book_pivot.loc[target_list].var().sort_values())).sum(axis=1).to_list()\n",
        "movie_dist.sort_values(\"Dist_1\", ascending=False).head(10)"
      ]
    }
  ],
  "metadata": {
    "colab": {
      "provenance": []
    },
    "kernelspec": {
      "display_name": "Python 3",
      "name": "python3"
    },
    "language_info": {
      "name": "python"
    }
  },
  "nbformat": 4,
  "nbformat_minor": 0
}